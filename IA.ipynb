{
 "cells": [
  {
   "cell_type": "markdown",
   "metadata": {},
   "source": [
    "# Projeto Python IA: Inteligência Artificial e Previsões\n",
    "\n",
    "### Case: Score de Crédito dos Clientes\n",
    "\n",
    "Você foi contratado por um banco para conseguir definir o score de crédito dos clientes. Você precisa analisar todos os clientes do banco e, com base nessa análise, criar um modelo que consiga ler as informações do cliente e dizer automaticamente o score de crédito dele: Ruim, Ok, Bom\n",
    "\n",
    "Arquivos da aula: https://drive.google.com/drive/folders/1FbDqVq4XLvU85VBlVIMJ73p9oOu6u2-J?usp=drive_link"
   ]
  },
  {
   "cell_type": "code",
   "execution_count": null,
   "metadata": {},
   "outputs": [],
   "source": [
    "#passo 1 - importar a base de dados\n",
    "#passo 2 - preparar a base de dados\n",
    "#passo 3 - "
   ]
  },
  {
   "cell_type": "code",
   "execution_count": null,
   "metadata": {},
   "outputs": [],
   "source": [
    "import pandas as pd\n",
    "\n",
    "DATA = pd.read_csv('clientes.csv')\n",
    "\n",
    "display(DATA)   "
   ]
  },
  {
   "cell_type": "code",
   "execution_count": null,
   "metadata": {},
   "outputs": [],
   "source": [
    "from sklearn.preprocessing import LabelEncoder\n",
    "\n",
    "COD_PROF = LabelEncoder()\n",
    "DATA['profissao'] = COD_PROF.fit_transform(DATA['profissao'])\n",
    "\n",
    "COD_CRED = LabelEncoder()\n",
    "DATA['mix_credito'] = COD_CRED.fit_transform(DATA['mix_credito'])\n",
    "\n",
    "COD_FP = LabelEncoder()\n",
    "DATA['comportamento_pagamento'] = COD_FP.fit_transform(DATA['comportamento_pagamento'])\n",
    "\n",
    "display(DATA.info())\n"
   ]
  },
  {
   "cell_type": "code",
   "execution_count": null,
   "metadata": {},
   "outputs": [],
   "source": [
    "#a IA trabalha com previsões e para faze-las, precisamos usar um modelo de plano cartesiano\n",
    "#nesse plano o Y é o atributo que queremos prever e o X são os atributos que vamos usar para prever o Y \n",
    "\n",
    "y = DATA['score_credito']\n",
    "x = DATA.drop(columns=['id_cliente', 'score_credito'])\n",
    "\n",
    "#da tabela inteira, a maior parte ficara para treino e uma parte menor para teste\n",
    "\n",
    "from sklearn.model_selection import train_test_split\n",
    "\n",
    "#obrigatoriamente esse comando deve seguir essa estrututura\n",
    "x_treino, x_teste, y_treino, y_teste = train_test_split(x, y, test_size=0.3)"
   ]
  },
  {
   "cell_type": "code",
   "execution_count": null,
   "metadata": {},
   "outputs": [],
   "source": [
    "#passo 3: treinar o modelo da IA\n",
    "\n",
    "from sklearn.ensemble import RandomForestClassifier\n",
    "from sklearn.neighbors import KNeighborsClassifier\n",
    "\n",
    "TREE = RandomForestClassifier()\n",
    "KNN = KNeighborsClassifier()\n",
    "\n",
    "TREE.fit(x_treino, y_treino)\n",
    "KNN.fit(x_treino, y_treino)\n",
    "\n"
   ]
  },
  {
   "cell_type": "code",
   "execution_count": null,
   "metadata": {},
   "outputs": [],
   "source": [
    "PREV_TREE = TREE.predict(x_teste)\n",
    "PREV_KNN = KNN.predict(x_teste)\n",
    "\n",
    "from sklearn.metrics import accuracy_score\n",
    "\n",
    "display(accuracy_score(y_teste, PREV_TREE))\n",
    "display(accuracy_score(y_teste, PREV_KNN))"
   ]
  },
  {
   "cell_type": "code",
   "execution_count": null,
   "metadata": {},
   "outputs": [],
   "source": [
    "# importar os novos clientes para fazer a previsao\n",
    "NEW_CLIENTS = pd.read_csv('novos_clientes.csv')\n",
    "\n",
    "NEW_CLIENTS['profissao'] = COD_PROF.fit_transform(NEW_CLIENTS['profissao'])\n",
    "NEW_CLIENTS['mix_credito'] = COD_CRED.fit_transform(NEW_CLIENTS['mix_credito'])\n",
    "NEW_CLIENTS['comportamento_pagamento'] = COD_FP.fit_transform(NEW_CLIENTS['comportamento_pagamento'])\n",
    "\n",
    "DECISIONS = KNN.predict(NEW_CLIENTS)\n",
    "display(DECISIONS)\n",
    "\n"
   ]
  }
 ],
 "metadata": {
  "kernelspec": {
   "display_name": "Python 3",
   "language": "python",
   "name": "python3"
  },
  "language_info": {
   "codemirror_mode": {
    "name": "ipython",
    "version": 3
   },
   "file_extension": ".py",
   "mimetype": "text/x-python",
   "name": "python",
   "nbconvert_exporter": "python",
   "pygments_lexer": "ipython3",
   "version": "3.12.10"
  },
  "orig_nbformat": 4
 },
 "nbformat": 4,
 "nbformat_minor": 2
}
